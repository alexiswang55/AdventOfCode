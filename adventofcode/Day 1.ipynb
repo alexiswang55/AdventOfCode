{
 "cells": [
  {
   "cell_type": "code",
   "execution_count": 6,
   "metadata": {},
   "outputs": [],
   "source": [
    "import pandas as pd\n",
    "import numpy as np"
   ]
  },
  {
   "cell_type": "code",
   "execution_count": 10,
   "metadata": {},
   "outputs": [
    {
     "name": "stdout",
     "output_type": "stream",
     "text": [
      "[ 176.  184.  196. ... 5584. 5588. 5596.]\n"
     ]
    }
   ],
   "source": [
    "df = np.loadtxt(\"input.txt\")\n",
    "print(df)"
   ]
  },
  {
   "cell_type": "code",
   "execution_count": 11,
   "metadata": {},
   "outputs": [
    {
     "name": "stdout",
     "output_type": "stream",
     "text": [
      "1342\n"
     ]
    }
   ],
   "source": [
    "increased = 0\n",
    "for i in range(len(df) - 1):\n",
    "    if df[i] < df[i + 1]:\n",
    "        increased += 1\n",
    "        \n",
    "print(increased)"
   ]
  },
  {
   "cell_type": "code",
   "execution_count": 14,
   "metadata": {},
   "outputs": [
    {
     "name": "stdout",
     "output_type": "stream",
     "text": [
      "1378\n"
     ]
    }
   ],
   "source": [
    "startIdx = 0\n",
    "endIdx = 3\n",
    "lst = []\n",
    "while endIdx <= len(df):\n",
    "    windowSum = sum(df[startIdx: endIdx])\n",
    "    lst.append(windowSum)\n",
    "    startIdx += 1\n",
    "    endIdx += 1\n",
    "    \n",
    "increased = 0\n",
    "for i in range(len(lst) - 1):\n",
    "    if lst[i] < lst[i + 1]:\n",
    "        increased += 1\n",
    "print(increased)"
   ]
  }
 ],
 "metadata": {
  "kernelspec": {
   "display_name": "Python 3",
   "language": "python",
   "name": "python3"
  },
  "language_info": {
   "codemirror_mode": {
    "name": "ipython",
    "version": 3
   },
   "file_extension": ".py",
   "mimetype": "text/x-python",
   "name": "python",
   "nbconvert_exporter": "python",
   "pygments_lexer": "ipython3",
   "version": "3.8.5"
  }
 },
 "nbformat": 4,
 "nbformat_minor": 4
}
